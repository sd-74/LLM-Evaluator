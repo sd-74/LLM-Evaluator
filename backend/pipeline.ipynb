{
 "cells": [
  {
   "cell_type": "code",
   "execution_count": 7,
   "metadata": {},
   "outputs": [
    {
     "name": "stdout",
     "output_type": "stream",
     "text": [
      "Unexpected exception formatting exception. Falling back to standard exception\n"
     ]
    },
    {
     "name": "stderr",
     "output_type": "stream",
     "text": [
      "Traceback (most recent call last):\n",
      "  File \"/Users/sumanthkalluru/Library/Mobile Documents/com~apple~CloudDocs/Coding/LLM-Evaluator/.venv/lib/python3.12/site-packages/IPython/core/interactiveshell.py\", line 3577, in run_code\n",
      "  File \"/var/folders/kd/j4v79_8x3vd7bqr4q1l0f5tc0000gn/T/ipykernel_52382/2750069892.py\", line 1, in <module>\n",
      "    get_ipython().run_line_magic('pip', 'install promptbench')\n",
      "  File \"/Users/sumanthkalluru/Library/Mobile Documents/com~apple~CloudDocs/Coding/LLM-Evaluator/.venv/lib/python3.12/site-packages/IPython/core/interactiveshell.py\", line 2480, in run_line_magic\n",
      "  File \"/Users/sumanthkalluru/Library/Mobile Documents/com~apple~CloudDocs/Coding/LLM-Evaluator/.venv/lib/python3.12/site-packages/IPython/core/magics/packaging.py\", line 92, in pip\n",
      "  File \"/Users/sumanthkalluru/Library/Mobile Documents/com~apple~CloudDocs/Coding/LLM-Evaluator/.venv/lib/python3.12/site-packages/ipykernel/zmqshell.py\", line 657, in system_piped\n",
      "  File \"/Users/sumanthkalluru/Library/Mobile Documents/com~apple~CloudDocs/Coding/LLM-Evaluator/.venv/lib/python3.12/site-packages/IPython/utils/_process_posix.py\", line 125, in system\n",
      "ModuleNotFoundError: No module named 'pexpect'\n",
      "\n",
      "During handling of the above exception, another exception occurred:\n",
      "\n",
      "Traceback (most recent call last):\n",
      "  File \"/Users/sumanthkalluru/Library/Mobile Documents/com~apple~CloudDocs/Coding/LLM-Evaluator/.venv/lib/python3.12/site-packages/pygments/styles/__init__.py\", line 45, in get_style_by_name\n",
      "ModuleNotFoundError: No module named 'pygments.styles.default'\n",
      "\n",
      "During handling of the above exception, another exception occurred:\n",
      "\n",
      "Traceback (most recent call last):\n",
      "  File \"/Users/sumanthkalluru/Library/Mobile Documents/com~apple~CloudDocs/Coding/LLM-Evaluator/.venv/lib/python3.12/site-packages/IPython/core/interactiveshell.py\", line 2168, in showtraceback\n",
      "  File \"/Users/sumanthkalluru/Library/Mobile Documents/com~apple~CloudDocs/Coding/LLM-Evaluator/.venv/lib/python3.12/site-packages/IPython/core/ultratb.py\", line 1457, in structured_traceback\n",
      "  File \"/Users/sumanthkalluru/Library/Mobile Documents/com~apple~CloudDocs/Coding/LLM-Evaluator/.venv/lib/python3.12/site-packages/IPython/core/ultratb.py\", line 1348, in structured_traceback\n",
      "  File \"/Users/sumanthkalluru/Library/Mobile Documents/com~apple~CloudDocs/Coding/LLM-Evaluator/.venv/lib/python3.12/site-packages/IPython/core/ultratb.py\", line 1195, in structured_traceback\n",
      "  File \"/Users/sumanthkalluru/Library/Mobile Documents/com~apple~CloudDocs/Coding/LLM-Evaluator/.venv/lib/python3.12/site-packages/IPython/core/ultratb.py\", line 1085, in format_exception_as_a_whole\n",
      "  File \"/Users/sumanthkalluru/Library/Mobile Documents/com~apple~CloudDocs/Coding/LLM-Evaluator/.venv/lib/python3.12/site-packages/IPython/core/ultratb.py\", line 1136, in get_records\n",
      "  File \"/Users/sumanthkalluru/Library/Mobile Documents/com~apple~CloudDocs/Coding/LLM-Evaluator/.venv/lib/python3.12/site-packages/pygments/styles/__init__.py\", line 47, in get_style_by_name\n",
      "pygments.util.ClassNotFound: Could not find style module 'pygments.styles.default', though it should be builtin.\n"
     ]
    }
   ],
   "source": [
    "!pip install promptbench\n"
   ]
  },
  {
   "cell_type": "code",
   "execution_count": 4,
   "metadata": {},
   "outputs": [
    {
     "ename": "ModuleNotFoundError",
     "evalue": "No module named 'promptbench'",
     "output_type": "error",
     "traceback": [
      "\u001b[0;31m---------------------------------------------------------------------------\u001b[0m",
      "\u001b[0;31mModuleNotFoundError\u001b[0m                       Traceback (most recent call last)",
      "Cell \u001b[0;32mIn[4], line 1\u001b[0m\n\u001b[0;32m----> 1\u001b[0m \u001b[38;5;28;01mimport\u001b[39;00m \u001b[38;5;21;01mpromptbench\u001b[39;00m \u001b[38;5;28;01mas\u001b[39;00m \u001b[38;5;21;01mpb\u001b[39;00m\n",
      "\u001b[0;31mModuleNotFoundError\u001b[0m: No module named 'promptbench'"
     ]
    }
   ],
   "source": [
    "import promptbench as pb"
   ]
  },
  {
   "cell_type": "code",
   "execution_count": null,
   "metadata": {},
   "outputs": [],
   "source": []
  }
 ],
 "metadata": {
  "kernelspec": {
   "display_name": "venv",
   "language": "python",
   "name": "venv"
  },
  "language_info": {
   "codemirror_mode": {
    "name": "ipython",
    "version": 3
   },
   "file_extension": ".py",
   "mimetype": "text/x-python",
   "name": "python",
   "nbconvert_exporter": "python",
   "pygments_lexer": "ipython3",
   "version": "3.10.6"
  }
 },
 "nbformat": 4,
 "nbformat_minor": 2
}
