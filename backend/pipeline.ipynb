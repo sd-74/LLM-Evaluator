{
 "cells": [
  {
   "cell_type": "code",
   "execution_count": 1,
   "metadata": {},
   "outputs": [
    {
     "name": "stdout",
     "output_type": "stream",
     "text": [
      "Requirement already satisfied: setuptools in /Users/sumanthkalluru/Library/Mobile Documents/com~apple~CloudDocs/Coding/LLM-Evaluator/.venv/lib/python3.12/site-packages (75.1.0)\n",
      "Note: you may need to restart the kernel to use updated packages.\n"
     ]
    }
   ],
   "source": [
    "# %pip install textattack\n",
    "%pip install setuptools"
   ]
  },
  {
   "cell_type": "code",
   "execution_count": 29,
   "metadata": {},
   "outputs": [
    {
     "name": "stderr",
     "output_type": "stream",
     "text": [
      "[nltk_data] Downloading package stopwords to\n",
      "[nltk_data]     /Users/sumanthkalluru/nltk_data...\n",
      "[nltk_data]   Package stopwords is already up-to-date!\n"
     ]
    },
    {
     "data": {
      "text/plain": [
       "True"
      ]
     },
     "execution_count": 29,
     "metadata": {},
     "output_type": "execute_result"
    }
   ],
   "source": [
    "import nltk\n",
    "nltk.download('stopwords')"
   ]
  },
  {
   "cell_type": "code",
   "execution_count": 2,
   "metadata": {},
   "outputs": [
    {
     "name": "stderr",
     "output_type": "stream",
     "text": [
      "/Users/sumanthkalluru/Library/Mobile Documents/com~apple~CloudDocs/Coding/LLM-Evaluator/.venv/lib/python3.12/site-packages/tqdm/auto.py:21: TqdmWarning: IProgress not found. Please update jupyter and ipywidgets. See https://ipywidgets.readthedocs.io/en/stable/user_install.html\n",
      "  from .autonotebook import tqdm as notebook_tqdm\n"
     ]
    }
   ],
   "source": [
    "\n",
    "import promptbench as pb\n",
    "\n",
    "from promptbench.models import LLMModel\n",
    "from promptbench.prompt_attack import Attack"
   ]
  },
  {
   "cell_type": "code",
   "execution_count": 4,
   "metadata": {},
   "outputs": [
    {
     "name": "stdout",
     "output_type": "stream",
     "text": [
      "2.2.0\n",
      "False\n"
     ]
    }
   ],
   "source": [
    "import torch\n",
    "print(torch.__version__)\n",
    "print(torch.cuda.is_available())"
   ]
  },
  {
   "cell_type": "code",
   "execution_count": 5,
   "metadata": {},
   "outputs": [
    {
     "name": "stderr",
     "output_type": "stream",
     "text": [
      "/Library/Frameworks/Python.framework/Versions/3.10/lib/python3.10/site-packages/huggingface_hub/file_download.py:1142: FutureWarning: `resume_download` is deprecated and will be removed in version 1.0.0. Downloads always resume when possible. If you want to force a new download, use `force_download=True`.\n",
      "  warnings.warn(\n",
      "You are using the default legacy behaviour of the <class 'transformers.models.t5.tokenization_t5.T5Tokenizer'>. This is expected, and simply means that the `legacy` (previous) behavior will be used so nothing changes for you. If you want to use the new behaviour, set `legacy=False`. This should only be set if you understand what it means, and thoroughly read the reason why this was added as explained in https://github.com/huggingface/transformers/pull/24565\n",
      "Special tokens have been added in the vocabulary, make sure the associated word embeddings are fine-tuned or trained.\n"
     ]
    },
    {
     "name": "stdout",
     "output_type": "stream",
     "text": [
      "['textbugger', 'deepwordbug', 'textfooler', 'bertattack', 'checklist', 'stresstest', 'semantic']\n"
     ]
    }
   ],
   "source": [
    "model_t5 = LLMModel(model='google/flan-t5-large', device = 'cpu', temperature=0.7, do_sample=True)\n",
    "\n",
    "\n",
    "# create dataset\n",
    "dataset = pb.DatasetLoader.load_dataset(\"sst2\")\n",
    "\n",
    "# try part of the dataset\n",
    "dataset = dataset[:10]\n",
    "\n",
    "# create prompt\n",
    "prompt = \"As a sentiment classifier, determine whether the following text is 'positive' or 'negative'. Please classify: \\nQuestion: {content}\\nAnswer:\"\n",
    "\n",
    "# define the projection function required by the output process\n",
    "def proj_func(pred):\n",
    "    mapping = {\n",
    "        \"positive\": 1,\n",
    "        \"negative\": 0\n",
    "    }\n",
    "    return mapping.get(pred, -1)\n",
    "\n",
    "# define the evaluation function required by the attack\n",
    "# if the prompt does not require any dataset, for example, \"write a poem\", you still need to include the dataset parameter\n",
    "def eval_func(prompt, dataset, model):\n",
    "    preds = []\n",
    "    labels = []\n",
    "    for d in dataset:\n",
    "        input_text = pb.InputProcess.basic_format(prompt, d)\n",
    "        raw_output = model(input_text)\n",
    "\n",
    "        output = pb.OutputProcess.cls(raw_output, proj_func)\n",
    "        preds.append(output)\n",
    "\n",
    "        labels.append(d[\"label\"])\n",
    "    \n",
    "    return pb.Eval.compute_cls_accuracy(preds, labels)\n",
    "    \n",
    "# define the unmodifiable words in the prompt\n",
    "# for example, the labels \"positive\" and \"negative\" are unmodifiable, and \"content\" is modifiable because it is a placeholder\n",
    "# if your labels are enclosed with '', you need to add \\' to the unmodifiable words (due to one feature of textattack)\n",
    "unmodifiable_words = [\"positive\\'\", \"negative\\'\", \"content\"]\n",
    "\n",
    "# print all supported attacks\n",
    "print(Attack.attack_list())"
   ]
  },
  {
   "cell_type": "code",
   "execution_count": 23,
   "metadata": {},
   "outputs": [
    {
     "name": "stdout",
     "output_type": "stream",
     "text": [
      "These words (if they appear in the prompt) are not allowed to be attacked:\n",
      "[\"positive'\", \"negative'\", 'content']\n",
      "--------------------------------------------------\n",
      "Current prompt is:  As a sentiment classifier, determine whether the following text is 'positive' or 'negative'. Please classify: \n",
      "Question: {content}\n",
      "Answer:\n",
      "Current accuracy is:  1.0\n",
      "--------------------------------------------------\n",
      "\n",
      "--------------------------------------------------\n",
      "Modifiable words:  ['As', 'a', 'sentiment', 'classifier', 'determine', 'whether', 'the', 'following', 'text', 'is', 'or', 'Please', 'classify', 'Question', 'Answer']\n",
      "--------------------------------------------------\n",
      "\n",
      "--------------------------------------------------\n",
      "Current prompt is:  As a sentiment classifier, determine whether the following text is 'positive' or 'negative'. Please classify: \n",
      "Question: {content}\n",
      "Answer  and false is not true :\n",
      "Current accuracy is:  1.0\n",
      "--------------------------------------------------\n",
      "\n",
      "--------------------------------------------------\n",
      "Current prompt is:  As a sentiment classifier, determine whether the following text is 'positive' or 'negative'. Please classify: \n",
      "Question: {content}\n",
      "Answer  and true is true  and true is true  and true is true  and true is true  and true is true :\n",
      "Current accuracy is:  1.0\n",
      "--------------------------------------------------\n",
      "\n",
      "--------------------------------------------------\n",
      "Current prompt is:  As a sentiment classifier, determine whether the following text is 'positive' or 'negative'. Please classify: \n",
      "Question: {content}\n",
      "Answer  and true is true :\n",
      "Current accuracy is:  1.0\n",
      "--------------------------------------------------\n",
      "\n",
      "{'original prompt': \"As a sentiment classifier, determine whether the following text is 'positive' or 'negative'. Please classify: \\nQuestion: {content}\\nAnswer:\", 'original score': 1.0, 'attacked prompt': \"As a sentiment classifier, determine whether the following text is 'positive' or 'negative'. Please classify: \\nQuestion: {content}\\nAnswer  and false is not true :\", 'attacked score': 1.0, 'PDR': 0.0}\n"
     ]
    }
   ],
   "source": [
    "attack = Attack(model_t5, \"stresstest\", dataset, prompt, eval_func, unmodifiable_words, verbose=True)\n",
    "\n",
    "# print attack result\n",
    "print(attack.attack())"
   ]
  },
  {
   "cell_type": "code",
   "execution_count": null,
   "metadata": {},
   "outputs": [],
   "source": []
  }
 ],
 "metadata": {
  "kernelspec": {
   "display_name": ".venv",
   "language": "python",
   "name": "python3"
  },
  "language_info": {
   "codemirror_mode": {
    "name": "ipython",
    "version": 3
   },
   "file_extension": ".py",
   "mimetype": "text/x-python",
   "name": "python",
   "nbconvert_exporter": "python",
   "pygments_lexer": "ipython3",
   "version": "3.12.4"
  }
 },
 "nbformat": 4,
 "nbformat_minor": 2
}
